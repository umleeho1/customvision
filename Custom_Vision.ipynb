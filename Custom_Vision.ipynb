{
  "nbformat": 4,
  "nbformat_minor": 0,
  "metadata": {
    "colab": {
      "provenance": [],
      "include_colab_link": true
    },
    "kernelspec": {
      "name": "python3",
      "display_name": "Python 3"
    },
    "language_info": {
      "name": "python"
    }
  },
  "cells": [
    {
      "cell_type": "markdown",
      "metadata": {
        "id": "view-in-github",
        "colab_type": "text"
      },
      "source": [
        "<a href=\"https://colab.research.google.com/github/umleeho1/customvision/blob/main/Custom_Vision.ipynb\" target=\"_parent\"><img src=\"https://colab.research.google.com/assets/colab-badge.svg\" alt=\"Open In Colab\"/></a>"
      ]
    },
    {
      "cell_type": "code",
      "execution_count": null,
      "metadata": {
        "colab": {
          "base_uri": "https://localhost:8080/"
        },
        "id": "8Em2IBangKiG",
        "outputId": "d85f0408-c9cb-4960-eb58-b95fbe80fae9"
      },
      "outputs": [
        {
          "output_type": "stream",
          "name": "stdout",
          "text": [
            "Looking in indexes: https://pypi.org/simple, https://us-python.pkg.dev/colab-wheels/public/simple/\n",
            "\u001b[31mERROR: Could not find a version that satisfies the requirement azure-conitiveservices-vision-customvision (from versions: none)\u001b[0m\n",
            "\u001b[31mERROR: No matching distribution found for azure-conitiveservices-vision-customvision\u001b[0m\n"
          ]
        }
      ],
      "source": [
        "#관련된 패키지를 설치한다.\n",
        "!pip install azure-conitiveservices-vision-customvision"
      ]
    },
    {
      "cell_type": "code",
      "source": [
        "!pip install azure-cognitiveservices-vision-customvision"
      ],
      "metadata": {
        "colab": {
          "base_uri": "https://localhost:8080/"
        },
        "id": "CxTSN1FLg8YI",
        "outputId": "3efe3fa8-ac95-4263-9382-6dfa739861b4"
      },
      "execution_count": null,
      "outputs": [
        {
          "output_type": "stream",
          "name": "stdout",
          "text": [
            "Looking in indexes: https://pypi.org/simple, https://us-python.pkg.dev/colab-wheels/public/simple/\n",
            "Requirement already satisfied: azure-cognitiveservices-vision-customvision in /usr/local/lib/python3.8/dist-packages (3.1.0)\n",
            "Requirement already satisfied: msrest>=0.5.0 in /usr/local/lib/python3.8/dist-packages (from azure-cognitiveservices-vision-customvision) (0.7.1)\n",
            "Requirement already satisfied: azure-common~=1.1 in /usr/local/lib/python3.8/dist-packages (from azure-cognitiveservices-vision-customvision) (1.1.28)\n",
            "Requirement already satisfied: isodate>=0.6.0 in /usr/local/lib/python3.8/dist-packages (from msrest>=0.5.0->azure-cognitiveservices-vision-customvision) (0.6.1)\n",
            "Requirement already satisfied: requests~=2.16 in /usr/local/lib/python3.8/dist-packages (from msrest>=0.5.0->azure-cognitiveservices-vision-customvision) (2.23.0)\n",
            "Requirement already satisfied: azure-core>=1.24.0 in /usr/local/lib/python3.8/dist-packages (from msrest>=0.5.0->azure-cognitiveservices-vision-customvision) (1.26.1)\n",
            "Requirement already satisfied: certifi>=2017.4.17 in /usr/local/lib/python3.8/dist-packages (from msrest>=0.5.0->azure-cognitiveservices-vision-customvision) (2022.9.24)\n",
            "Requirement already satisfied: requests-oauthlib>=0.5.0 in /usr/local/lib/python3.8/dist-packages (from msrest>=0.5.0->azure-cognitiveservices-vision-customvision) (1.3.1)\n",
            "Requirement already satisfied: six>=1.11.0 in /usr/local/lib/python3.8/dist-packages (from azure-core>=1.24.0->msrest>=0.5.0->azure-cognitiveservices-vision-customvision) (1.15.0)\n",
            "Requirement already satisfied: typing-extensions>=4.0.1 in /usr/local/lib/python3.8/dist-packages (from azure-core>=1.24.0->msrest>=0.5.0->azure-cognitiveservices-vision-customvision) (4.4.0)\n",
            "Requirement already satisfied: idna<3,>=2.5 in /usr/local/lib/python3.8/dist-packages (from requests~=2.16->msrest>=0.5.0->azure-cognitiveservices-vision-customvision) (2.10)\n",
            "Requirement already satisfied: urllib3!=1.25.0,!=1.25.1,<1.26,>=1.21.1 in /usr/local/lib/python3.8/dist-packages (from requests~=2.16->msrest>=0.5.0->azure-cognitiveservices-vision-customvision) (1.24.3)\n",
            "Requirement already satisfied: chardet<4,>=3.0.2 in /usr/local/lib/python3.8/dist-packages (from requests~=2.16->msrest>=0.5.0->azure-cognitiveservices-vision-customvision) (3.0.4)\n",
            "Requirement already satisfied: oauthlib>=3.0.0 in /usr/local/lib/python3.8/dist-packages (from requests-oauthlib>=0.5.0->msrest>=0.5.0->azure-cognitiveservices-vision-customvision) (3.2.2)\n"
          ]
        }
      ]
    },
    {
      "cell_type": "code",
      "source": [
        "#학습용 패키지\n",
        "from azure.cognitiveservices.vision.customvision.training import CustomVisionTrainingClient\n",
        "#예측용 패키지\n",
        "from azure.cognitiveservices.vision.customvision.prediction import CustomVisionPredictionClient\n",
        "\n",
        "from azure.cognitiveservices.vision.customvision.training.models import ImageFileCreateBatch, ImageFileCreateEntry, Region\n",
        "from msrest.authentication import ApiKeyCredentials\n",
        "import os, time, uuid"
      ],
      "metadata": {
        "id": "rmxt8rEohtk0"
      },
      "execution_count": null,
      "outputs": []
    },
    {
      "cell_type": "code",
      "source": [
        "from azure.cognitiveservices.vision.customvision import prediction\n",
        "# 접속 주소와 키 값을 설정합니다. \n",
        "\n",
        "ENDPOINT_Training = 'https://umproject2.cognitiveservices.azure.com/'\n",
        "ENDPOINT_Prediction = 'https://umproject2-prediction.cognitiveservices.azure.com/'\n",
        "\n",
        "training_key = '6cf54cb71d044d56aa6ae5d0c6df24a4'\n",
        "prediction_key = 'd0fee2160d804a68aaaaae14d8ed2811'\n",
        "prediction_resource_id=''"
      ],
      "metadata": {
        "id": "XHscdzbbirlL"
      },
      "execution_count": null,
      "outputs": []
    },
    {
      "cell_type": "code",
      "source": [
        "# 접속에 필요한 인증을 만든다. \n",
        "credentials = ApiKeyCredentials(in_headers={'Training-key': training_key})\n",
        "trainer = CustomVisionTrainingClient(ENDPOINT_Training, credentials)"
      ],
      "metadata": {
        "id": "VV_QLoOnkUrj"
      },
      "execution_count": null,
      "outputs": []
    },
    {
      "cell_type": "code",
      "source": [
        "project = trainer.create_project('Test 1')\n",
        "print('Project created!!')"
      ],
      "metadata": {
        "colab": {
          "base_uri": "https://localhost:8080/"
        },
        "id": "rLV0mNk9lhJT",
        "outputId": "962d798e-6e6e-4d28-9047-7a9ed7df851d"
      },
      "execution_count": null,
      "outputs": [
        {
          "output_type": "stream",
          "name": "stdout",
          "text": [
            "Project created!!\n"
          ]
        }
      ]
    },
    {
      "cell_type": "code",
      "source": [
        "#태그를 추가합니다.\n",
        "Vinyl_tag = trainer.create_tag(project.id, 'Vinyl')\n",
        "Plastic_tag = trainer.create_tag(project.id, 'Plastic')\n",
        "Glass_tag = trainer.create_tag(project.id, 'Glass')\n",
        "Can_tag = trainer.create_tag(project.id, 'Can')\n",
        "Paper_tag = trainer.create_tag(project.id, 'Paper')\n",
        "Battery_tag = trainer.create_tag(project.id, 'Battery')"
      ],
      "metadata": {
        "id": "wo39ICRamvR5"
      },
      "execution_count": null,
      "outputs": []
    },
    {
      "cell_type": "code",
      "source": [
        "#사진을 학습 시킵니다.\n",
        "import time\n",
        "print('Training...............')\n",
        "Iteration = trainer.train_project(project.id)\n",
        "while(Iteration.status != 'Completed'):\n",
        "  Iteration = trainer.get_iteration(project.id, Iteration.id )\n",
        "  print('Training status: ' + Iteration.status)\n",
        "  \n",
        "  time.sleep(10)\n",
        "  \n",
        "print('Training completed...............')"
      ],
      "metadata": {
        "colab": {
          "base_uri": "https://localhost:8080/"
        },
        "id": "F3I9wodDnh1f",
        "outputId": "8d007bc9-3375-4cd7-a129-c79830d95a53"
      },
      "execution_count": null,
      "outputs": [
        {
          "output_type": "stream",
          "name": "stdout",
          "text": [
            "Training...............\n",
            "Training status: Training\n",
            "Training status: Training\n",
            "Training status: Training\n",
            "Training status: Training\n",
            "Training status: Training\n",
            "Training status: Training\n",
            "Training status: Training\n",
            "Training status: Training\n",
            "Training status: Training\n",
            "Training status: Training\n",
            "Training status: Training\n",
            "Training status: Training\n",
            "Training status: Training\n",
            "Training status: Training\n",
            "Training status: Training\n",
            "Training status: Training\n",
            "Training status: Training\n",
            "Training status: Training\n",
            "Training status: Training\n",
            "Training status: Training\n",
            "Training status: Training\n",
            "Training status: Training\n",
            "Training status: Training\n",
            "Training status: Training\n",
            "Training status: Training\n",
            "Training status: Training\n",
            "Training status: Training\n",
            "Training status: Training\n",
            "Training status: Training\n",
            "Training status: Training\n",
            "Training status: Completed\n",
            "Training completed...............\n"
          ]
        }
      ]
    },
    {
      "cell_type": "code",
      "source": [
        "from azure.cognitiveservices.vision.customvision.prediction import CustomVisionPredictionClient"
      ],
      "metadata": {
        "id": "5XTK0dFVzhN4"
      },
      "execution_count": null,
      "outputs": []
    },
    {
      "cell_type": "code",
      "source": [
        "prediction_credentials = ApiKeyCredentials(in_headers={'Prediction-key': prediction_key})\n",
        "predictor = CustomVisionPredictionClient(ENDPOINT_Prediction, prediction_credentials)"
      ],
      "metadata": {
        "id": "KKarNSpzzths"
      },
      "execution_count": null,
      "outputs": []
    },
    {
      "cell_type": "code",
      "source": [
        "# 예측할 이미지를 준비(받을이미지 학습x)\n",
        "#플라스틱\n",
        "results = target_image_url = 'https://search.pstatic.net/common/?src=http%3A%2F%2Fblogfiles.naver.net%2FMjAxOTEwMThfNDcg%2FMDAxNTcxMzg1ODIwMTYy.5WmBgjSKl4HHO28dhFmhPAuJMxFxya153x7nRTh8V2gg.nuuHDBcGCSu-wg2Cd4tZPDcITk62_JJswXl1K29_RM8g.PNG.hooxicreative%2Fimage.png&type=a340'\n",
        "results = predictor.classify_image_url(project.id,'Iteration1',target_image_url)\n",
        "#비닐\n",
        "results1 =target_image_url1 = 'https://search.pstatic.net/common/?src=http%3A%2F%2Fblogfiles.naver.net%2FMjAyMDA4MjJfMTY2%2FMDAxNTk4MDQ2MjIyMDI4.8pHuy3mdwDtTtdTk1otevBZSUHYQkA9aea8gTBeI7BIg.wqtQ1kARspDPYNXDJ1kX0ts3o6-BhgDiXduQnXJccD0g.JPEG.jungsuki22%2F1598046221355.jpg&type=a340'\n",
        "results1 = predictor.classify_image_url(project.id,'Iteration1',target_image_url1)\n",
        "#베터리\n",
        "results2 =target_image_url2 = 'https://search.pstatic.net/common/?src=http%3A%2F%2Fblogfiles.naver.net%2FMjAyMjAyMDdfMTg5%2FMDAxNjQ0MjM4Njc4MTk2.ezRLtT3P9QmiM_GDt52we0Jz9gobvLPYOJlDNUj184sg.6X_qVzf9LbLhjJvbn7Lqw4pAEhZmUlnIVXo1BRZYT1Ag.JPEG.kkozzarri%2F1644206751386.jpg&type=a340'\n",
        "results2 = predictor.classify_image_url(project.id,'Iteration1',target_image_url2)\n"
      ],
      "metadata": {
        "id": "NtAeLSzV0f6p"
      },
      "execution_count": null,
      "outputs": []
    },
    {
      "cell_type": "code",
      "source": [],
      "metadata": {
        "id": "gBdJeExAygwp"
      },
      "execution_count": null,
      "outputs": []
    },
    {
      "cell_type": "code",
      "source": [
        "#플라스틱\n",
        "for prediction in results.predictions:\n",
        "  print('\\t result \\t' + prediction.tag_name + ': {0:.2f}%'.format(prediction.probability * 100))\n",
        "  #비닐\n",
        "for prediction in results1.predictions:\n",
        "  print('\\t reuslt1 \\t' + prediction.tag_name + ': {0:.2f}%'.format(prediction.probability * 100))\n",
        "  #베터리\n",
        "for prediction in results2.predictions:\n",
        "  print('\\t result2 \\t' + prediction.tag_name + ': {0:.2f}%'.format(prediction.probability * 100))\n",
        "\n",
        "  \n",
        "\n"
      ],
      "metadata": {
        "colab": {
          "base_uri": "https://localhost:8080/"
        },
        "id": "j-UFNcpp1lMt",
        "outputId": "f8855223-568b-4afb-c1b8-fe5e92ba12b0"
      },
      "execution_count": null,
      "outputs": [
        {
          "output_type": "stream",
          "name": "stdout",
          "text": [
            "\t result \tVinyl: 88.64%\n",
            "\t result \tPlastic: 79.01%\n",
            "\t result \tPaper: 1.44%\n",
            "\t result \tGlass: 0.19%\n",
            "\t result \tCan: 0.14%\n",
            "\t result \tBattery: 0.01%\n",
            "\t reuslt1 \tVinyl: 99.39%\n",
            "\t reuslt1 \tPlastic: 1.38%\n",
            "\t reuslt1 \tPaper: 0.92%\n",
            "\t reuslt1 \tCan: 0.71%\n",
            "\t reuslt1 \tGlass: 0.17%\n",
            "\t reuslt1 \tBattery: 0.03%\n",
            "\t result2 \tBattery: 98.25%\n",
            "\t result2 \tVinyl: 2.03%\n",
            "\t result2 \tPaper: 1.07%\n",
            "\t result2 \tCan: 0.60%\n",
            "\t result2 \tPlastic: 0.42%\n",
            "\t result2 \tGlass: 0.32%\n"
          ]
        }
      ]
    }
  ]
}